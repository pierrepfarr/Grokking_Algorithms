{
 "cells": [
  {
   "cell_type": "markdown",
   "metadata": {},
   "source": [
    "## Excercises\n",
    "\n",
    "2.1 App to track finances that requires many insertions and few reads?\n",
    "    \n",
    "    - You should use a list because of the need to insert and not read\n",
    "\n",
    "2.2 Order queue for resturant, chefs access the top of the queue and servers access the bottom?\n",
    "\n",
    "    - List because you can access the first and last element easily and have faster insert/deletions\n",
    "\n",
    "2.3 Facebook has a list of usernames that it checks to allow you to login?\n",
    "\n",
    "    - Array because they use binary search to randomly access the middle of the list\n",
    "\n",
    "2.4 Facebook also inserts fairly often what are the downsides of an array?\n",
    "\n",
    "    - When new users are added you have to constantly look for more memory as you grow the array. It also needs to be sorted in this case.\n",
    "\n",
    "2.5 Facebook uses a hybrid array of linked list, one with 26 slots and a list for each letter of the alphabet. Is this hybrid faster for inserting or searching?\n",
    "\n",
    "    - It is faster than a list for search and slower than an array. It is faster than the plain array for inserts but same as a list."
   ]
  }
 ],
 "metadata": {
  "language_info": {
   "name": "python"
  },
  "orig_nbformat": 4
 },
 "nbformat": 4,
 "nbformat_minor": 2
}
