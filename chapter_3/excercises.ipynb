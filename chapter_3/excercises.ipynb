{
 "cells": [
  {
   "cell_type": "markdown",
   "metadata": {},
   "source": [
    "## Excercises \n",
    "\n",
    "3.1 Given the example call stack what information can you give?\n",
    "\n",
    "    - you are calling a function called greet with input maggie, within that function a second function greet2 is called with input maggie.\n",
    "\n",
    "3.2 If your recursive call goes on infinitly and your computer allocates memory for each call what happens?\n",
    "\n",
    "    - your computer will run out of memory and experience a stack overflow, some language guard againist this limiting the recursion depth"
   ]
  },
  {
   "cell_type": "code",
   "execution_count": 3,
   "metadata": {},
   "outputs": [],
   "source": [
    "\"\"\" example of factorial with recursion \"\"\"\n",
    "\n",
    "def factorial(x:int) -> int:\n",
    "    if x == 1:\n",
    "        return 1\n",
    "    else:\n",
    "        return x * factorial(x-1)\n",
    "\n",
    "assert factorial(3) == 6\n",
    "assert factorial(4) == 24"
   ]
  },
  {
   "cell_type": "markdown",
   "metadata": {},
   "source": []
  }
 ],
 "metadata": {
  "interpreter": {
   "hash": "79615e4862a679a6db45b2c80bc45c58d30cc34320eea1d97e6011363fa65aa3"
  },
  "kernelspec": {
   "display_name": "Python 3.8.3 64-bit ('3.8.3': pyenv)",
   "language": "python",
   "name": "python3"
  },
  "language_info": {
   "codemirror_mode": {
    "name": "ipython",
    "version": 3
   },
   "file_extension": ".py",
   "mimetype": "text/x-python",
   "name": "python",
   "nbconvert_exporter": "python",
   "pygments_lexer": "ipython3",
   "version": "3.8.3"
  },
  "orig_nbformat": 4
 },
 "nbformat": 4,
 "nbformat_minor": 2
}
