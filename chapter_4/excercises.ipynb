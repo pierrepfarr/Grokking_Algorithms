{
 "cells": [
  {
   "cell_type": "markdown",
   "metadata": {},
   "source": [
    "### 4.1"
   ]
  },
  {
   "cell_type": "code",
   "execution_count": null,
   "metadata": {},
   "outputs": [],
   "source": [
    "\n",
    "\n",
    "\"\"\"4.1 recursive sum function\"\"\"\n",
    "\n",
    "def recursive_sum(arr:list)->int:\n",
    "    if not arr:\n",
    "        return 0\n",
    "    elif len(arr) == 1:\n",
    "        return arr[0]\n",
    "    else:\n",
    "        return arr[0] + recursive_sum(arr[1:])\n",
    "\n",
    "\"\"\"cleaner way to write it\"\"\"\n",
    "\n",
    "def recursive_sum_2(arr:list)->int:\n",
    "    if not arr:\n",
    "        return 0\n",
    "    return arr[0]+recursive_sum_2(arr[1:])\n"
   ]
  },
  {
   "cell_type": "markdown",
   "metadata": {},
   "source": [
    "### 4.2"
   ]
  },
  {
   "cell_type": "code",
   "execution_count": null,
   "metadata": {},
   "outputs": [],
   "source": [
    "\"\"\"4.2 recursive len\"\"\"\n",
    "\n",
    "def recursive_len(arr:list)->int:\n",
    "    if not arr:\n",
    "        return 0\n",
    "    return 1 + recursive_len(arr[1:])\n"
   ]
  },
  {
   "cell_type": "markdown",
   "metadata": {},
   "source": [
    "### 4.3"
   ]
  },
  {
   "cell_type": "code",
   "execution_count": null,
   "metadata": {},
   "outputs": [],
   "source": [
    "\"\"\"4.3 recursive max\"\"\"\n",
    "\n",
    "def recursive_max(arr:list)->int:\n",
    "    if len(arr) == 1:\n",
    "        return arr[0]\n",
    "    elif len(arr)==2:\n",
    "        return arr[0] if arr[0] > arr[1] else arr[1]\n",
    "    else:\n",
    "        sub_max = recursive_max(arr[1:])\n",
    "        return arr[0] if arr[0] > sub_max else sub_max\n",
    "\n"
   ]
  },
  {
   "cell_type": "markdown",
   "metadata": {},
   "source": [
    "### 4.4\n",
    "\n",
    "What is the base and recursive case for binary search?\n",
    "\n",
    "    - Base case would be a single element array and you check if the target\n",
    "    \n",
    "    - Recursive would be to half the array and call it again"
   ]
  },
  {
   "cell_type": "code",
   "execution_count": null,
   "metadata": {},
   "outputs": [],
   "source": [
    "def recursive_binary_search(arr:list,left:int,right:int,target:int)->int:\n",
    "    if right >= left:\n",
    "        \n",
    "        mid = left+(right-left)//2\n",
    "        \n",
    "        if arr[mid] == target:\n",
    "            return mid\n",
    "        if arr[mid] > target:\n",
    "            recursive_binary_search(arr,left,mid-1,target)\n",
    "        else:\n",
    "            recursive_binary_search(arr,mid+1,right,target)\n",
    "    else:\n",
    "        return None\n"
   ]
  }
 ],
 "metadata": {
  "interpreter": {
   "hash": "79615e4862a679a6db45b2c80bc45c58d30cc34320eea1d97e6011363fa65aa3"
  },
  "kernelspec": {
   "display_name": "Python 3.8.3 64-bit ('3.8.3': pyenv)",
   "language": "python",
   "name": "python3"
  },
  "language_info": {
   "codemirror_mode": {
    "name": "ipython",
    "version": 3
   },
   "file_extension": ".py",
   "mimetype": "text/x-python",
   "name": "python",
   "nbconvert_exporter": "python",
   "pygments_lexer": "ipython3",
   "version": "3.8.3"
  },
  "orig_nbformat": 4
 },
 "nbformat": 4,
 "nbformat_minor": 2
}
