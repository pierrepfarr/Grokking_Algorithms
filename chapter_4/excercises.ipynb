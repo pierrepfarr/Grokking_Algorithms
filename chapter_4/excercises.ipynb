{
 "cells": [
  {
   "cell_type": "markdown",
   "metadata": {},
   "source": [
    "### 4.1"
   ]
  },
  {
   "cell_type": "code",
   "execution_count": null,
   "metadata": {},
   "outputs": [],
   "source": [
    "\n",
    "\n",
    "\"\"\"4.1 recursive sum function\"\"\"\n",
    "\n",
    "def recursive_sum(arr:list)->int:\n",
    "    if not arr:\n",
    "        return 0\n",
    "    elif len(arr) == 1:\n",
    "        return arr[0]\n",
    "    else:\n",
    "        return arr[0] + recursive_sum(arr[1:])\n",
    "\n",
    "\"\"\"cleaner way to write it\"\"\"\n",
    "\n",
    "def recursive_sum_2(arr:list)->int:\n",
    "    if not arr:\n",
    "        return 0\n",
    "    return arr[0]+recursive_sum_2(arr[1:])\n"
   ]
  },
  {
   "cell_type": "markdown",
   "metadata": {},
   "source": [
    "### 4.2"
   ]
  },
  {
   "cell_type": "code",
   "execution_count": null,
   "metadata": {},
   "outputs": [],
   "source": [
    "\"\"\"4.2 recursive len\"\"\"\n",
    "\n",
    "def recursive_len(arr:list)->int:\n",
    "    if not arr:\n",
    "        return 0\n",
    "    return 1 + recursive_len(arr[1:])\n"
   ]
  },
  {
   "cell_type": "markdown",
   "metadata": {},
   "source": [
    "### 4.3"
   ]
  },
  {
   "cell_type": "code",
   "execution_count": null,
   "metadata": {},
   "outputs": [],
   "source": [
    "\"\"\"4.3 recursive max\"\"\"\n",
    "\n",
    "def recursive_max(arr:list)->int:\n",
    "    if len(arr) == 1:\n",
    "        return arr[0]\n",
    "    elif len(arr)==2:\n",
    "        return arr[0] if arr[0] > arr[1] else arr[1]\n",
    "    else:\n",
    "        sub_max = recursive_max(arr[1:])\n",
    "        return arr[0] if arr[0] > sub_max else sub_max\n",
    "\n"
   ]
  },
  {
   "cell_type": "markdown",
   "metadata": {},
   "source": [
    "### 4.4\n",
    "\n",
    "What is the base and recursive case for binary search?\n",
    "\n",
    "    - Base case would be a single element array and you check if the target\n",
    "    \n",
    "    - Recursive would be to half the array and call it again"
   ]
  },
  {
   "cell_type": "code",
   "execution_count": null,
   "metadata": {},
   "outputs": [],
   "source": [
    "def recursive_binary_search(arr:list,left:int,right:int,target:int)->int:\n",
    "    if right >= left:\n",
    "        \n",
    "        mid = left+(right-left)//2\n",
    "        \n",
    "        if arr[mid] == target:\n",
    "            return mid\n",
    "        if arr[mid] > target:\n",
    "            recursive_binary_search(arr,left,mid-1,target)\n",
    "        else:\n",
    "            recursive_binary_search(arr,mid+1,right,target)\n",
    "    else:\n",
    "        return None\n"
   ]
  },
  {
   "cell_type": "code",
   "execution_count": 51,
   "metadata": {},
   "outputs": [
    {
     "name": "stdout",
     "output_type": "stream",
     "text": [
      "1\n",
      "[1, 5, 8, 9, 10, 7]\n"
     ]
    },
    {
     "ename": "TypeError",
     "evalue": "partition() missing 1 required positional argument: 'right'",
     "output_type": "error",
     "traceback": [
      "\u001b[1;31m---------------------------------------------------------------------------\u001b[0m",
      "\u001b[1;31mTypeError\u001b[0m                                 Traceback (most recent call last)",
      "\u001b[1;32m~\\AppData\\Local\\Temp/ipykernel_2340/2302802228.py\u001b[0m in \u001b[0;36m<module>\u001b[1;34m\u001b[0m\n\u001b[0;32m     26\u001b[0m \u001b[0mprint\u001b[0m\u001b[1;33m(\u001b[0m\u001b[0mpartition\u001b[0m\u001b[1;33m(\u001b[0m\u001b[0marray\u001b[0m\u001b[1;33m,\u001b[0m\u001b[1;36m0\u001b[0m\u001b[1;33m,\u001b[0m\u001b[1;36m5\u001b[0m\u001b[1;33m)\u001b[0m\u001b[1;33m)\u001b[0m\u001b[1;33m\u001b[0m\u001b[1;33m\u001b[0m\u001b[0m\n\u001b[0;32m     27\u001b[0m \u001b[0mprint\u001b[0m\u001b[1;33m(\u001b[0m\u001b[0marray\u001b[0m\u001b[1;33m)\u001b[0m\u001b[1;33m\u001b[0m\u001b[1;33m\u001b[0m\u001b[0m\n\u001b[1;32m---> 28\u001b[1;33m \u001b[0mprint\u001b[0m\u001b[1;33m(\u001b[0m\u001b[0mpartition\u001b[0m\u001b[1;33m(\u001b[0m\u001b[1;36m2\u001b[0m\u001b[1;33m,\u001b[0m\u001b[1;36m5\u001b[0m\u001b[1;33m)\u001b[0m\u001b[1;33m)\u001b[0m\u001b[1;33m\u001b[0m\u001b[1;33m\u001b[0m\u001b[0m\n\u001b[0m",
      "\u001b[1;31mTypeError\u001b[0m: partition() missing 1 required positional argument: 'right'"
     ]
    }
   ],
   "source": [
    "import random as rand\n",
    "\n",
    "def quicksort(arr:list,left:int,right:int):\n",
    "    if left < right:\n",
    "        p = rand_partition(arr,left,right)\n",
    "        quicksort(arr,left,p-1)\n",
    "        quicksort(arr,p+1,right)\n",
    "\n",
    "def rand_partition(arr:list,left:int,right:int):\n",
    "    r_pivot = rand.randint(left,right)\n",
    "    arr[r_pivot], arr[right] = arr[right],arr[r_pivot]\n",
    "    return partition(arr,left,right)\n",
    "\n",
    "def partition(arr:list,left:int,right:int):\n",
    "    pivot = right\n",
    "    i = left \n",
    "    for j in range(len(arr)-1):\n",
    "        if arr[j] <= arr[pivot]:\n",
    "            arr[i], arr[j] = arr[j], arr[i]\n",
    "            i += 1\n",
    "    arr[i],arr[pivot] = arr[pivot], arr[i]\n",
    "    return i \n",
    "\n",
    "\n",
    "array = [10, 7, 8, 9, 1, 5]\n",
    "print(partition(array,0,5))\n",
    "print(array)\n",
    "print(partition(array,2,5))"
   ]
  },
  {
   "cell_type": "code",
   "execution_count": null,
   "metadata": {},
   "outputs": [],
   "source": [
    "array = [10, 7, 8, 9, 1, 5]\n",
    "for i in range(len(array)):\n",
    "    print(i)"
   ]
  },
  {
   "cell_type": "code",
   "execution_count": null,
   "metadata": {},
   "outputs": [],
   "source": []
  }
 ],
 "metadata": {
  "interpreter": {
   "hash": "79615e4862a679a6db45b2c80bc45c58d30cc34320eea1d97e6011363fa65aa3"
  },
  "kernelspec": {
   "display_name": "Python 3.8.3 64-bit ('3.8.3': pyenv)",
   "language": "python",
   "name": "python3"
  },
  "language_info": {
   "codemirror_mode": {
    "name": "ipython",
    "version": 3
   },
   "file_extension": ".py",
   "mimetype": "text/x-python",
   "name": "python",
   "nbconvert_exporter": "python",
   "pygments_lexer": "ipython3",
   "version": "3.8.3"
  },
  "orig_nbformat": 4
 },
 "nbformat": 4,
 "nbformat_minor": 2
}
