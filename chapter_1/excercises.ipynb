{
 "cells": [
  {
   "cell_type": "code",
   "execution_count": 3,
   "metadata": {},
   "outputs": [],
   "source": [
    "\"\"\" \n",
    "    Suppose you have 128 numbers what is the max number of tries for binary search\n",
    "\n",
    "    128 = 2^x \n",
    "    x = 7 \n",
    "    \n",
    "    What if you double the list to 256?\n",
    "\n",
    "    256 = 2^x\n",
    "    x = 8\n",
    "\"\"\"\n",
    "assert 128 == 2**7\n",
    "assert 256 == 2**8"
   ]
  },
  {
   "cell_type": "code",
   "execution_count": null,
   "metadata": {},
   "outputs": [],
   "source": [
    "\"\"\"\n",
    "    Give the Big(O) for each scenerio\n",
    "\n",
    "    1. you have a name and want to find their number in a phone book\n",
    "       O(log_n) binary search\n",
    "    2. you have a number and want to find a name\n",
    "       O(n) you need to check name\n",
    "    3. you want to read all the numbers of the phone book\n",
    "       O(n) you need to read in each number\n",
    "    4. you want to read in just the A's\n",
    "       O(n) you read in the A names\n",
    "\n",
    "\"\"\""
   ]
  },
  {
   "cell_type": "code",
   "execution_count": null,
   "metadata": {},
   "outputs": [],
   "source": []
  }
 ],
 "metadata": {
  "interpreter": {
   "hash": "e643f109eac9de8b26c5e704be21cf74667b78de7756f8b9a14f5dcbed1346fc"
  },
  "kernelspec": {
   "display_name": "Python 3.9.1 64-bit ('3.9.1': pyenv)",
   "language": "python",
   "name": "python3"
  },
  "language_info": {
   "name": "python",
   "version": "3.9.1"
  },
  "orig_nbformat": 4
 },
 "nbformat": 4,
 "nbformat_minor": 2
}
